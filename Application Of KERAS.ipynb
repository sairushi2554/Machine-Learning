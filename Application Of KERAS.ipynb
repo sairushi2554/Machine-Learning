{
 "cells": [
  {
   "cell_type": "markdown",
   "id": "de1e884a",
   "metadata": {},
   "source": [
    "# KERAS : Deep Learning Library\n",
    "Keras is one of the major subfield of ML framework.\n",
    "\n",
    "ML is nothiing but the study of algorithms similar to human brain.\n",
    "\n",
    "Deep Learning is used in a variety of data scince fields like robotics, AI ,audio and video recognition and image recognition.\n",
    "\n",
    "Artificial Neural Network (ANN) is the heart of many ML methodologies.\n",
    "\n",
    "Keras is one of the most powerful python library and is builton top of deep learning libraries like TensorFlow and Theano for creating deep learning models.\n",
    "\n",
    "Keras runs on top of open source machine libraries like TensorFlow, Theano and Cognitive toolkit (CNTK).\n",
    "\n",
    "Theano is a numerical library used for fast numerical computation task.\n",
    "\n",
    "TensorFlow is the symbolic math library which is used to create neural networks and deep learning models.\n",
    "\n",
    "CNTK (Cognitive toolkit) is a deep learning framework developed by microsoft.\n",
    "\n",
    "Theano and TensorFlow are powerful libraries but they are difficult to understand for creating neural networks.\n",
    "\n",
    "Keras is a high level API built on the top of TensorFlow.\n"
   ]
  },
  {
   "cell_type": "markdown",
   "id": "c6860a07",
   "metadata": {},
   "source": [
    "# Keras- Feature and Benefits\n",
    "It provides a consistant, simple and extensible API.\n",
    "\n",
    "They supportminimal structure and we can achieve the desired results.\n",
    "\n",
    "It can run on varity of platforms(i.e, it supports multiple platforms).\n",
    "\n",
    "It is user freindly framework and it runs on the top of both CPU and GPU (Generak Processing Unit).\n",
    "\n",
    "It provides a large community support.\n",
    "\n",
    "Keras neural networks are written in python which is easier to understand.\n",
    "\n",
    "Keras supports both convolutional and recurrent neural networks.\n",
    "\n",
    "Deep learning models are separate components and we can combine them in many ways.\n"
   ]
  },
  {
   "cell_type": "markdown",
   "id": "4d68f1a2",
   "metadata": {},
   "source": [
    "# Keras - Layers\n",
    "Keras layers are the main buildings block of Keras model.\n",
    "\n",
    "Each layer receives the input data, performs some computation and finally output the tranformed information.\n",
    "\n",
    "The output of the one layer will follow to the next layer as input.\n",
    "\n",
    "# Layers Introduction :\n",
    "A keras layer requires the shape of the input( input shape).\n",
    "\n",
    "Input shape is required to understand the structure of input data.\n",
    "\n",
    "Initializer is required to set the weight of each input.\n",
    "\n",
    "Activators are required to transform the output to make it non-linear.\n",
    "\n",
    "Constraints restricts and specify the range in which the weight of input data is to be generated\n",
    "\n",
    "Regularizer will try to optimize the layer.\n",
    "\n",
    "It applies penalties dynamically on the weights during the optimization process.\n",
    "\n",
    "Keras requires the following details to create a complete layer:\n",
    "\n",
    "                                                 1) shape of the input data.\n",
    "                                                 2) Number of neurons/inputs in the layer.\n",
    "                                                 3) Initializers.\n",
    "                                                 4) Regularizers.\n",
    "                                                 5) Constraints.\n",
    "                                                 6) Activators.\n",
    "                                                 \n",
    "A simple keras layer is constructed using the sequential model API.It shows how keyras model and layers works.\n",
    "\n"
   ]
  },
  {
   "cell_type": "code",
   "execution_count": 1,
   "id": "bcc24bf1",
   "metadata": {},
   "outputs": [
    {
     "name": "stdout",
     "output_type": "stream",
     "text": [
      "Defaulting to user installation because normal site-packages is not writeableNote: you may need to restart the kernel to use updated packages.\n",
      "\n",
      "Collecting Keras\n",
      "  Downloading keras-2.10.0-py2.py3-none-any.whl (1.7 MB)\n",
      "Installing collected packages: Keras\n",
      "Successfully installed Keras-2.10.0\n"
     ]
    }
   ],
   "source": [
    "pip install Keras"
   ]
  },
  {
   "cell_type": "code",
   "execution_count": 3,
   "id": "82de3154",
   "metadata": {},
   "outputs": [],
   "source": [
    "# Example\n",
    "from keras.models import Sequential\n",
    "from keras.layers import Activation, Dense\n",
    "from keras import initializers\n",
    "from keras import regularizers\n",
    "from keras import constraints\n",
    "import tensorflow\n",
    "\n",
    "model=Sequential()                            # creates new model using sequential API\n",
    "model.add(Dense(32,input_shape=(16,),kernel_initializer ='he_uniform',kernel_regularizer=None,kernel_constraint='MaxNorm',activation='relu'))\n",
    "                                     # creates a new dense layer and add it into the model\n",
    "                                     # it accepts the number of neurons (32) as its required parameter\n",
    "\n",
    "                               # Dense is the beginning layer(or entry level layer) provided by keras\n",
    "                                            # If the layer is the first layer, then we need to provide the input shape as well.\n",
    "                                           \n",
    "model.add(Dense(16,activation='relu'))       # creates the second dense layer with 16 units ans set relu as the activation function\n",
    "model.add(Dense(8))                          # creates final dense layer with 8 units\n",
    " \n",
    "# Kernel_regularizer : it represents the regularizer to be used.            None is set as the value\n",
    "# Kernel_constraint : represents the constraints to be used\n",
    "# MaxNorm : function is set as the value\n",
    "# Activation : represents the activation to be used.\n",
    "# Relu function is set as the value\n",
    "\n"
   ]
  },
  {
   "cell_type": "code",
   "execution_count": 16,
   "id": "324d80d4",
   "metadata": {},
   "outputs": [
    {
     "name": "stdout",
     "output_type": "stream",
     "text": [
      "[[0. 0.]\n",
      " [0. 0.]\n",
      " [0. 0.]\n",
      " [0. 0.]]\n"
     ]
    }
   ],
   "source": [
    "import numpy as np\n",
    "shape=(4,2)           # 3 rows & 2 columns \n",
    "input=np.zeros(shape)\n",
    "print(input)"
   ]
  },
  {
   "cell_type": "code",
   "execution_count": 15,
   "id": "0785638e",
   "metadata": {},
   "outputs": [
    {
     "name": "stdout",
     "output_type": "stream",
     "text": [
      "[[[0. 0.]\n",
      "  [0. 0.]\n",
      "  [0. 0.]\n",
      "  [0. 0.]]\n",
      "\n",
      " [[0. 0.]\n",
      "  [0. 0.]\n",
      "  [0. 0.]\n",
      "  [0. 0.]]\n",
      "\n",
      " [[0. 0.]\n",
      "  [0. 0.]\n",
      "  [0. 0.]\n",
      "  [0. 0.]]]\n"
     ]
    }
   ],
   "source": [
    "import numpy as np\n",
    "shape=(3,4,2)                # 3 marices with 4 rows & 2 columns\n",
    "input=np.zeros(shape)\n",
    "print(input)"
   ]
  },
  {
   "cell_type": "code",
   "execution_count": 24,
   "id": "dbedc080",
   "metadata": {},
   "outputs": [],
   "source": [
    "# Initializers - Zeros\n",
    "from keras.models import Sequential\n",
    "from keras.layers import Activation, Dense\n",
    "from keras import initializers\n",
    "\n",
    "my_init=initializers.Zeros()\n",
    "model=Sequential()\n",
    "model.add(Dense(512,activation='relu',input_shape=(784,),kernel_initializer=my_init))"
   ]
  },
  {
   "cell_type": "code",
   "execution_count": 22,
   "id": "f121b778",
   "metadata": {},
   "outputs": [],
   "source": [
    "# Initializers - Ones\n",
    "from keras.models import Sequential\n",
    "from keras.layers import Activation, Dense\n",
    "from keras import initializers\n",
    "\n",
    "my_init=initializers.Ones()\n",
    "model=Sequential()\n",
    "model.add(Dense(512,activation='relu',input_shape=(784,),kernel_initializer=my_init))"
   ]
  },
  {
   "cell_type": "code",
   "execution_count": 26,
   "id": "05c03dfd",
   "metadata": {},
   "outputs": [],
   "source": [
    "# Initializers - Constant\n",
    "# generates a constant value specified by the user for all input data. value is nothingbut the input data.\n",
    "from keras.models import Sequential\n",
    "from keras.layers import Activation, Dense\n",
    "from keras import initializers\n",
    "\n",
    "my_init=initializers.Constant(value=0)\n",
    "model.add(Dense(512,activation='relu',input_shape=(784,),kernel_initializer=my_init))"
   ]
  },
  {
   "cell_type": "code",
   "execution_count": 32,
   "id": "84103cb4",
   "metadata": {},
   "outputs": [],
   "source": [
    "# Initializers - Random Uniform \n",
    "# It generates values using uniform distribution of the input data\n",
    "\n",
    "from keras import initializers\n",
    "my_init=initializers.RandomUniform(minval=-0.05,maxval=0.05,seed=None)\n",
    "         # minival: lower bound of the random values to generate\n",
    "         # maxval : upper bound of the values to generate\n",
    "model.add(Dense(512,activation='relu',input_shape=(784,),kernel_initializer=my_init))"
   ]
  },
  {
   "cell_type": "code",
   "execution_count": 33,
   "id": "d919e086",
   "metadata": {},
   "outputs": [],
   "source": [
    "# Initializers - Random Normal\n",
    "# generates value using truncated normal distribution of input data.\n",
    "from keras.models import Sequential\n",
    "from keras.layers import Activation, Dense\n",
    "from keras import initializers\n",
    "\n",
    "my_init=initializers.RandomNormal(mean=0.0,stddev=0.05,seed=None)\n",
    "model.add(Dense(512,activation='relu',input_shape=(784,),kernel_initializer=my_init))"
   ]
  },
  {
   "cell_type": "code",
   "execution_count": 35,
   "id": "536bccd4",
   "metadata": {},
   "outputs": [],
   "source": [
    "# Initializers - Truncated Normal\n",
    "# generates value using truncated normal distribution of input data.\n",
    "from keras.models import Sequential\n",
    "from keras.layers import Activation, Dense\n",
    "from keras import initializers\n",
    "\n",
    "my_init=initializers.TruncatedNormal(mean=0.0,stddev=0.05,seed=None)\n",
    "model.add(Dense(512,activation='relu',input_shape=(784,),kernel_initializer=my_init))"
   ]
  },
  {
   "cell_type": "code",
   "execution_count": 37,
   "id": "a775ab3d",
   "metadata": {},
   "outputs": [],
   "source": [
    "# Initializers - Glorot Normal\n",
    "# generates value using glorot normal distribution of input data.\n",
    "from keras.models import Sequential\n",
    "from keras.layers import Activation, Dense\n",
    "from keras import initializers\n",
    "\n",
    "my_init=initializers.glorot_normal(seed=None)\n",
    "model.add(Dense(512,activation='relu',input_shape=(784,),kernel_initializer=my_init))"
   ]
  },
  {
   "cell_type": "code",
   "execution_count": 38,
   "id": "fbc04e2e",
   "metadata": {},
   "outputs": [],
   "source": [
    "# Initializers - he_normal\n",
    "\n",
    "from keras.models import Sequential\n",
    "from keras.layers import Activation, Dense\n",
    "from keras import initializers\n",
    "\n",
    "my_init=initializers.he_normal(seed=None)\n",
    "model.add(Dense(512,activation='relu',input_shape=(784,),kernel_initializer=my_init))"
   ]
  },
  {
   "cell_type": "code",
   "execution_count": 39,
   "id": "026b72a9",
   "metadata": {},
   "outputs": [],
   "source": [
    "# Initializers - Orthogonal\n",
    "from keras.models import Sequential\n",
    "from keras.layers import Activation, Dense\n",
    "from keras import initializers\n",
    "\n",
    "my_init=initializers.Orthogonal(gain=1.0,seed=None)\n",
    "model.add(Dense(512,activation='relu',input_shape=(784,),kernel_initializer=my_init))"
   ]
  },
  {
   "cell_type": "code",
   "execution_count": 40,
   "id": "86ba1f79",
   "metadata": {},
   "outputs": [],
   "source": [
    "# Initializers - Identity\n",
    "from keras.models import Sequential\n",
    "from keras.layers import Activation, Dense\n",
    "from keras import initializers\n",
    "\n",
    "my_init=initializers.Identity(gain=1.0)\n",
    "model.add(Dense(512,activation='relu',input_shape=(784,),kernel_initializer=my_init))"
   ]
  },
  {
   "cell_type": "code",
   "execution_count": 70,
   "id": "a38fc722",
   "metadata": {},
   "outputs": [],
   "source": [
    "#                                            Constraints Initializers - UnitNorm\n",
    "from keras.models import Sequential\n",
    "from keras.layers import Activation, Dense\n",
    "from keras import constraints\n",
    "\n",
    "my_constrain=constraints.UnitNorm(axis=0)\n",
    "model=Sequential()\n",
    "model.add(Dense(512,activation='relu',input_shape=(784,),kernel_initializer=my_init))"
   ]
  },
  {
   "cell_type": "code",
   "execution_count": 47,
   "id": "21096133",
   "metadata": {},
   "outputs": [],
   "source": [
    "# Constraints Initializers - MaxNorm\n",
    "from keras.models import Sequential\n",
    "from keras.layers import Activation, Dense\n",
    "from keras import constraints\n",
    "\n",
    "my_constrain=constraints.MaxNorm(max_value=2,axis=0)\n",
    "model=Sequential()\n",
    "model.add(Dense(512,activation='relu',input_shape=(784,),kernel_initializer=my_init))"
   ]
  },
  {
   "cell_type": "code",
   "execution_count": 49,
   "id": "4a5bcb18",
   "metadata": {},
   "outputs": [],
   "source": [
    "# Constraints Initializers - MinMaxNorm\n",
    "from keras.models import Sequential\n",
    "from keras.layers import Activation, Dense\n",
    "from keras import constraints\n",
    "\n",
    "my_constrain=constraints.MinMaxNorm(min_value=0.0,max_value=1,rate=1.0,axis=0)\n",
    "model=Sequential()\n",
    "model.add(Dense(512,activation='relu',input_shape=(784,),kernel_initializer=my_init))"
   ]
  },
  {
   "cell_type": "code",
   "execution_count": 50,
   "id": "e4e0f566",
   "metadata": {},
   "outputs": [],
   "source": [
    "#                                          Regularizers Initializers - l1\n",
    "from keras.models import Sequential\n",
    "from keras.layers import Activation, Dense\n",
    "from keras import regularizers\n",
    "\n",
    "my_regularizer=regularizers.l1(0.)\n",
    "model=Sequential()\n",
    "model.add(Dense(512,activation='relu',input_shape=(784,),kernel_initializer=my_init))"
   ]
  },
  {
   "cell_type": "code",
   "execution_count": 66,
   "id": "62811120",
   "metadata": {},
   "outputs": [],
   "source": [
    "# Regularizers Initializers - l2\n",
    "from keras.models import Sequential\n",
    "from keras.layers import Activation, Dense\n",
    "from keras import regularizers\n",
    "\n",
    "my_regularizer=regularizers.l2(0.)\n",
    "model=Sequential()\n",
    "model.add(Dense(512,activation='relu',input_shape=(784,),kernel_initializer=my_init))"
   ]
  },
  {
   "cell_type": "code",
   "execution_count": 69,
   "id": "ddffd280",
   "metadata": {},
   "outputs": [],
   "source": [
    "# Regularizers Initializers - L1L2\n",
    "from keras.models import Sequential\n",
    "from keras.layers import Activation, Dense\n",
    "from keras import regularizers\n",
    "\n",
    "my_regularizer=regularizers.L1L2(0.)\n",
    "model=Sequential()\n",
    "model.add(Dense(512,activation='relu',input_shape=(784,),kernel_initializer=my_init))"
   ]
  },
  {
   "cell_type": "code",
   "execution_count": 55,
   "id": "33a2813d",
   "metadata": {},
   "outputs": [],
   "source": [
    "#                                      Initializers - Activation - linear\n",
    "from keras.models import Sequential\n",
    "\n",
    "\n",
    "model=Sequential()\n",
    "model.add(Dense(512,activation='linear',input_shape=(784,)))"
   ]
  },
  {
   "cell_type": "code",
   "execution_count": 56,
   "id": "198b9e8a",
   "metadata": {},
   "outputs": [],
   "source": [
    "# Initializers - Activation - elu\n",
    "from keras.models import Sequential\n",
    "\n",
    "\n",
    "model=Sequential()\n",
    "model.add(Dense(512,activation='elu',input_shape=(784,)))"
   ]
  },
  {
   "cell_type": "code",
   "execution_count": 58,
   "id": "131dadd1",
   "metadata": {},
   "outputs": [],
   "source": [
    "# Initializers - Activation - softmax\n",
    "from keras.models import Sequential\n",
    "\n",
    "\n",
    "model=Sequential()\n",
    "model.add(Dense(512,activation='softmax',input_shape=(784,)))"
   ]
  },
  {
   "cell_type": "code",
   "execution_count": 59,
   "id": "977d1869",
   "metadata": {},
   "outputs": [],
   "source": [
    "# Initializers - Activation - softplus\n",
    "from keras.models import Sequential\n",
    "\n",
    "\n",
    "model=Sequential()\n",
    "model.add(Dense(512,activation='softplus',input_shape=(784,)))"
   ]
  },
  {
   "cell_type": "code",
   "execution_count": 60,
   "id": "f90cbdce",
   "metadata": {},
   "outputs": [],
   "source": [
    "# Initializers - Activation - softsign\n",
    "from keras.models import Sequential\n",
    "\n",
    "\n",
    "model=Sequential()\n",
    "model.add(Dense(512,activation='softsign',input_shape=(784,)))"
   ]
  },
  {
   "cell_type": "code",
   "execution_count": 61,
   "id": "bc8f9cef",
   "metadata": {},
   "outputs": [],
   "source": [
    "# Initializers - Activation - sigmoid\n",
    "from keras.models import Sequential\n",
    "\n",
    "\n",
    "model=Sequential()\n",
    "model.add(Dense(512,activation='sigmoid',input_shape=(784,)))"
   ]
  },
  {
   "cell_type": "code",
   "execution_count": 62,
   "id": "80737efe",
   "metadata": {},
   "outputs": [],
   "source": [
    "# Initializers - Activation - hard_signmoid\n",
    "from keras.models import Sequential\n",
    "\n",
    "\n",
    "model=Sequential()\n",
    "model.add(Dense(512,activation='hard_sigmoid',input_shape=(784,)))"
   ]
  },
  {
   "cell_type": "code",
   "execution_count": 63,
   "id": "336ddc69",
   "metadata": {},
   "outputs": [],
   "source": [
    "# Initializers - Activation - exponential\n",
    "from keras.models import Sequential\n",
    "\n",
    "\n",
    "model=Sequential()\n",
    "model.add(Dense(512,activation='exponential',input_shape=(784,)))"
   ]
  },
  {
   "cell_type": "code",
   "execution_count": 64,
   "id": "e2cddcf5",
   "metadata": {},
   "outputs": [],
   "source": [
    "#                                    Variance Scaling Initializer\n",
    "# generates value based on the input shape and output shape of the layer along with the specified scale\n",
    "\n",
    "from keras.models import Sequential\n",
    "from keras.layers import Activation, Dense\n",
    "from keras import initializers\n",
    "\n",
    "my_init=initializers.VarianceScaling(scale=1.0,mode='fan_in',distribution='normal',seed=None)\n",
    "                     # scale : denotes scaling factor\n",
    "                     # model : represent any one of the fan_in, fan_out and fan_avg values.\n",
    "                     # distribution : represents either normal or uniform distribution\n",
    "model.add(Dense(512,activation='relu',input_shape=(784,),kernel_initializer=my_init))\n",
    "\n",
    "# it find the stddev value for normal disributionn using below formula\n",
    "### and then find the weights using normal distribution\n",
    "\n",
    "# Stddev=sqrt(scale/n)       where n represents no. of inputs for mode= fan_in\n",
    "                             # where n represents no. of out units for mode= fan_out\n",
    "                             # OR avg no. of inputs and outputs units for mode = fan_avg\n",
    "        \n",
    "# It find the limit of uniform distribution using below formula and then find the weights using normal distribution\n",
    "# limit=sqrt(3*scale/n)"
   ]
  },
  {
   "cell_type": "code",
   "execution_count": null,
   "id": "8bcd7616",
   "metadata": {},
   "outputs": [],
   "source": []
  }
 ],
 "metadata": {
  "kernelspec": {
   "display_name": "Python 3 (ipykernel)",
   "language": "python",
   "name": "python3"
  },
  "language_info": {
   "codemirror_mode": {
    "name": "ipython",
    "version": 3
   },
   "file_extension": ".py",
   "mimetype": "text/x-python",
   "name": "python",
   "nbconvert_exporter": "python",
   "pygments_lexer": "ipython3",
   "version": "3.9.12"
  }
 },
 "nbformat": 4,
 "nbformat_minor": 5
}
