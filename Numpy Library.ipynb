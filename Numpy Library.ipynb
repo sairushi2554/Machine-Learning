{
 "cells": [
  {
   "cell_type": "code",
   "execution_count": 1,
   "id": "493dddc8",
   "metadata": {},
   "outputs": [],
   "source": [
    "import numpy as np"
   ]
  },
  {
   "cell_type": "code",
   "execution_count": 2,
   "id": "a323d452",
   "metadata": {},
   "outputs": [
    {
     "data": {
      "text/plain": [
       "array([1, 2, 3, 4])"
      ]
     },
     "execution_count": 2,
     "metadata": {},
     "output_type": "execute_result"
    }
   ],
   "source": [
    "a=np.array([1,2,3,4])\n",
    "a"
   ]
  },
  {
   "cell_type": "code",
   "execution_count": 3,
   "id": "c802a3e0",
   "metadata": {},
   "outputs": [],
   "source": [
    "# more than one dimensional "
   ]
  },
  {
   "cell_type": "code",
   "execution_count": 4,
   "id": "fd612a23",
   "metadata": {},
   "outputs": [
    {
     "data": {
      "text/plain": [
       "array([[1, 2],\n",
       "       [3, 4]])"
      ]
     },
     "execution_count": 4,
     "metadata": {},
     "output_type": "execute_result"
    }
   ],
   "source": [
    "a=np.array([[1,2],[3,4]])\n",
    "a"
   ]
  },
  {
   "cell_type": "code",
   "execution_count": 5,
   "id": "ce924a1e",
   "metadata": {},
   "outputs": [
    {
     "data": {
      "text/plain": [
       "array([[1, 2, 3, 4]])"
      ]
     },
     "execution_count": 5,
     "metadata": {},
     "output_type": "execute_result"
    }
   ],
   "source": [
    "a=np.array([1,2,3,4],ndmin=2)\n",
    "a"
   ]
  },
  {
   "cell_type": "code",
   "execution_count": 6,
   "id": "f101ef03",
   "metadata": {},
   "outputs": [
    {
     "data": {
      "text/plain": [
       "array([1.+0.j, 2.+0.j, 3.+0.j, 4.+0.j])"
      ]
     },
     "execution_count": 6,
     "metadata": {},
     "output_type": "execute_result"
    }
   ],
   "source": [
    "a=np.array([1,2,3,4],dtype=complex)          # complex data\n",
    "a"
   ]
  },
  {
   "cell_type": "code",
   "execution_count": 7,
   "id": "86045895",
   "metadata": {},
   "outputs": [
    {
     "name": "stdout",
     "output_type": "stream",
     "text": [
      "int32\n"
     ]
    }
   ],
   "source": [
    "dt=np.dtype(np.int32)\n",
    "print(dt)"
   ]
  },
  {
   "cell_type": "code",
   "execution_count": 8,
   "id": "01f7c867",
   "metadata": {},
   "outputs": [
    {
     "name": "stdout",
     "output_type": "stream",
     "text": [
      "(2, 3)\n"
     ]
    }
   ],
   "source": [
    "# Ndarray.shape : it returns a tupple containing array dimensions. Used to resize array.\n",
    "a=np.array([[1,2,3],[4,5,6]])\n",
    "print(a.shape)"
   ]
  },
  {
   "cell_type": "code",
   "execution_count": 9,
   "id": "ecef603e",
   "metadata": {},
   "outputs": [
    {
     "name": "stdout",
     "output_type": "stream",
     "text": [
      "[[1 2]\n",
      " [3 4]\n",
      " [5 6]]\n"
     ]
    }
   ],
   "source": [
    "a=np.array([[1,2,3],[4,5,6]])\n",
    "a.shape=(3,2)\n",
    "print(a)"
   ]
  },
  {
   "cell_type": "code",
   "execution_count": 10,
   "id": "da8b02dc",
   "metadata": {},
   "outputs": [
    {
     "data": {
      "text/plain": [
       "array([ 0,  1,  2,  3,  4,  5,  6,  7,  8,  9, 10, 11, 12, 13, 14, 15, 16,\n",
       "       17, 18, 19, 20, 21, 22, 23])"
      ]
     },
     "execution_count": 10,
     "metadata": {},
     "output_type": "execute_result"
    }
   ],
   "source": [
    "a=np.arange(24) # till : n-1\n",
    "a"
   ]
  },
  {
   "cell_type": "code",
   "execution_count": 11,
   "id": "682af5da",
   "metadata": {},
   "outputs": [
    {
     "data": {
      "text/plain": [
       "array([[[ 0,  1,  2,  3],\n",
       "        [ 4,  5,  6,  7]],\n",
       "\n",
       "       [[ 8,  9, 10, 11],\n",
       "        [12, 13, 14, 15]],\n",
       "\n",
       "       [[16, 17, 18, 19],\n",
       "        [20, 21, 22, 23]]])"
      ]
     },
     "execution_count": 11,
     "metadata": {},
     "output_type": "execute_result"
    }
   ],
   "source": [
    "a.ndim                    # reshape array \n",
    "b=a.reshape(3,2,4)        # 3 arrays 2 rows and 4 columns\n",
    "b"
   ]
  },
  {
   "cell_type": "code",
   "execution_count": 12,
   "id": "e963abdc",
   "metadata": {},
   "outputs": [],
   "source": [
    "# Numpy.itemsize: returns length of each element of array in bytes."
   ]
  },
  {
   "cell_type": "code",
   "execution_count": 13,
   "id": "e8b52d9e",
   "metadata": {},
   "outputs": [
    {
     "name": "stdout",
     "output_type": "stream",
     "text": [
      "1\n"
     ]
    }
   ],
   "source": [
    "#dtype of array is int8(1 byte)\n",
    "x=np.array([1,2,3,4,5],dtype=np.int8)\n",
    "print(x.itemsize)"
   ]
  },
  {
   "cell_type": "code",
   "execution_count": 14,
   "id": "f50d16d1",
   "metadata": {},
   "outputs": [],
   "source": [
    "# Numpy.Flags\n",
    "# C_CONTOGUOUS(C): DATA IS IN SINGLE , C-STYLE CONTIGUOUS SEGMENT.\n",
    "# F_CONTIGUOUS(F): DATA IS IN SINGLE , FORTAN-STYLE CONTIGUOUS SEGMENT.\n",
    "# OWNDATA(O): ARRAY OWNS THE MEMORY IT  USES OR BORROWS IT FROM ANOTHER OBJECT.\n",
    "# WRITEABLE(W): DATA AREA CAN BE WRITTEN TO. SETTING THIS TO FALSE LOCKS THE DATA,MAKING IT READ-ONLY.\n",
    "# ALIGNED(A): DATA ABD ALL ELEMENTS ARE ALIGNED APPROPRIATELY FOR THE HARDWARE.\n",
    "# UPDATEIFCOPY(U) : ARRAY IS COPY OF SOME OTHER ARRAY.WHEN THIS ARRAY IS DEALLOCATED, THE BASE ARRAY WILL BE UPDATED WITH THE CONTENTS OF THIS ARRAY."
   ]
  },
  {
   "cell_type": "code",
   "execution_count": 15,
   "id": "31a09c70",
   "metadata": {},
   "outputs": [],
   "source": [
    "## Numpy.zeroes: it returns a new array of specified size, filled with zeroes.\n",
    "# numpy.zeroes(shape,dtype=float,order='C') ->> # shape of an empty array in int\n",
    "                                                # dtype : desired output datatype.\n",
    "                                                # order=C for C-style row major aray."
   ]
  },
  {
   "cell_type": "code",
   "execution_count": 16,
   "id": "935a92a5",
   "metadata": {},
   "outputs": [],
   "source": [
    "## Numpy- array from existing array\n",
    "# Numpy.asarray: it is used for coverting python sequence into an n-dimensional array\n",
    "# Numpy.asarray(a,dtype=Nine,order=None)   ->> # a- input in any form such as list orlist of tuples.\n",
    "                                               # dtype: by default, the datatype of the input data is applied to the resultant array.\n",
    "                                               # order - C Row Major"
   ]
  },
  {
   "cell_type": "code",
   "execution_count": 17,
   "id": "719359b5",
   "metadata": {},
   "outputs": [
    {
     "name": "stdout",
     "output_type": "stream",
     "text": [
      "[1 2 3]\n"
     ]
    }
   ],
   "source": [
    "# convert list to ndarray\n",
    "x=[1,2,3]\n",
    "a=np.asarray(x)\n",
    "print(a)"
   ]
  },
  {
   "cell_type": "code",
   "execution_count": 18,
   "id": "23d2f291",
   "metadata": {},
   "outputs": [
    {
     "name": "stdout",
     "output_type": "stream",
     "text": [
      "[1 2 2]\n"
     ]
    }
   ],
   "source": [
    "s=(1,2,2)\n",
    "h=np.array(s)\n",
    "print(h)"
   ]
  },
  {
   "cell_type": "code",
   "execution_count": 19,
   "id": "5509051e",
   "metadata": {},
   "outputs": [],
   "source": [
    "# Numpy: indexing and slicing\n",
    "                        # contents of ndarrav objevt can be accessed by indexumg or slicing."
   ]
  },
  {
   "cell_type": "code",
   "execution_count": 20,
   "id": "58db6c96",
   "metadata": {},
   "outputs": [
    {
     "name": "stdout",
     "output_type": "stream",
     "text": [
      "[2 4 6]\n"
     ]
    }
   ],
   "source": [
    "a=np.arange(10)\n",
    "s=slice(2,7,2)\n",
    "print(a[s])"
   ]
  },
  {
   "cell_type": "code",
   "execution_count": 21,
   "id": "5a258612",
   "metadata": {},
   "outputs": [
    {
     "name": "stdout",
     "output_type": "stream",
     "text": [
      "[2 4 6]\n"
     ]
    }
   ],
   "source": [
    "x=np.arange(10)\n",
    "b=a[2:7:2]\n",
    "print(b)"
   ]
  },
  {
   "cell_type": "code",
   "execution_count": 22,
   "id": "42dae64c",
   "metadata": {},
   "outputs": [
    {
     "name": "stdout",
     "output_type": "stream",
     "text": [
      "Our array is :\n",
      "[[1 2 3]\n",
      " [3 4 5]\n",
      " [4 5 6]]\n",
      "\n",
      "\n",
      "The items in the second column are:\n",
      "[2 4 5]\n",
      "\n",
      "\n",
      "The items in the second row are:\n",
      "[3 4 5]\n",
      "\n",
      "\n",
      "the items column 1 onwards are :\n",
      "[[2 3]\n",
      " [4 5]\n",
      " [5 6]]\n"
     ]
    }
   ],
   "source": [
    "#array to begin with\n",
    "x=np.array([[1,2,3],[3,4,5],[4,5,6]])\n",
    "print(\"Our array is :\")\n",
    "print(x)\n",
    "print(\"\\n\") # this returns array of items in the second coloumn\n",
    "print(\"The items in the second column are:\")\n",
    "print(x[...,1])\n",
    "print(\"\\n\")\n",
    "# Now we will slice all items from the second row\n",
    "print(\"The items in the second row are:\")\n",
    "print(x[1,...])\n",
    "print(\"\\n\")\n",
    "# Now we will slice all items from column 1 onwards\n",
    "print(\"the items column 1 onwards are :\")\n",
    "print(x[...,1:])\n"
   ]
  },
  {
   "cell_type": "code",
   "execution_count": null,
   "id": "745ad9b0",
   "metadata": {},
   "outputs": [],
   "source": []
  },
  {
   "cell_type": "code",
   "execution_count": 23,
   "id": "d9aa402c",
   "metadata": {},
   "outputs": [],
   "source": [
    "## Numpy- Iterating over an array.\n",
    "                       # it contains an iterator object 'nditer'\n",
    "                       # it is a multidimensional array object which is used to iterate over an array\n",
    "                       # each element of an array is accessed using the python standard iterator interface."
   ]
  },
  {
   "cell_type": "code",
   "execution_count": 24,
   "id": "1b3d6037",
   "metadata": {},
   "outputs": [
    {
     "name": "stdout",
     "output_type": "stream",
     "text": [
      "Original array is: \n",
      "[[ 0  5 10 15]\n",
      " [20 25 30 35]\n",
      " [40 45 50 55]]\n",
      "\n",
      "\n",
      "Modified array is :\n",
      "0\n",
      "5\n",
      "10\n",
      "15\n",
      "20\n",
      "25\n",
      "30\n",
      "35\n",
      "40\n",
      "45\n",
      "50\n",
      "55\n"
     ]
    }
   ],
   "source": [
    "s=np.arange(0,60,5)\n",
    "s=s.reshape(3,4)\n",
    "print(\"Original array is: \")\n",
    "print(s)\n",
    "print(\"\\n\")\n",
    "print(\"Modified array is :\")\n",
    "for x in np.nditer(s):\n",
    "    print(x)"
   ]
  },
  {
   "cell_type": "code",
   "execution_count": null,
   "id": "232d8cb0",
   "metadata": {},
   "outputs": [],
   "source": []
  },
  {
   "cell_type": "code",
   "execution_count": null,
   "id": "ed047433",
   "metadata": {},
   "outputs": [],
   "source": []
  },
  {
   "cell_type": "code",
   "execution_count": null,
   "id": "f03570be",
   "metadata": {},
   "outputs": [],
   "source": []
  }
 ],
 "metadata": {
  "kernelspec": {
   "display_name": "Python 3 (ipykernel)",
   "language": "python",
   "name": "python3"
  },
  "language_info": {
   "codemirror_mode": {
    "name": "ipython",
    "version": 3
   },
   "file_extension": ".py",
   "mimetype": "text/x-python",
   "name": "python",
   "nbconvert_exporter": "python",
   "pygments_lexer": "ipython3",
   "version": "3.9.12"
  }
 },
 "nbformat": 4,
 "nbformat_minor": 5
}
