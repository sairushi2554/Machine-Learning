{
 "cells": [
  {
   "cell_type": "markdown",
   "id": "bbcbf820",
   "metadata": {},
   "source": [
    "# Machine Learning\n",
    "1) Supervised - labeled data (We already know the output like 0/1)\n",
    "2) UnSupervised - unlabeled data( mixed/combine data)\n",
    "3) Reinforcement - Game development purpose"
   ]
  },
  {
   "cell_type": "markdown",
   "id": "55dab833",
   "metadata": {},
   "source": [
    "# Supervised ML\n",
    "This algorithm consists of a target/outcome variable (or dependent variable) which is to be predicted from a given set of predictors (independent variables). Using this set of variables, we generate a function that map inputs to desired outputs. The training process continues until the model achieves a desired level of accuracy on the training data. Examples of Supervised Learning: Regression, Decision Tree, Random Forest, KNN, Logistic Regression etc"
   ]
  },
  {
   "cell_type": "markdown",
   "id": "a49d6dcd",
   "metadata": {},
   "source": [
    "# Unsupervised Learning\n",
    " In this algorithm, we do not have any target or outcome variable to predict / estimate. It is used for clustering populations in different groups, which is widely used for segmenting customers into different groups for specific interventions. Examples of Unsupervised Learning: Apriori algorithm, K-means."
   ]
  },
  {
   "cell_type": "markdown",
   "id": "5b152700",
   "metadata": {},
   "source": [
    "# Reinforcement Learning:\n",
    "Using this algorithm, the machine is trained to make specific decisions. It works this way: the machine is exposed to an environment where it trains itself continually using trial and error. This machine learns from past experience and tries to capture the best possible knowledge to make accurate business decisions. Example of Reinforcement Learning: Markov Decision Process"
   ]
  },
  {
   "cell_type": "markdown",
   "id": "43ae9738",
   "metadata": {},
   "source": [
    "Here is the list of commonly used machine learning algorithms. These algorithms can be applied to almost any \n",
    "data problem:\n",
    "\n",
    "1) Linear Regression\n",
    "2) Logistic Regression\n",
    "3) Decision Tree\n",
    "4) SVM\n",
    "5) Naive Bayes\n",
    "6) kNN\n",
    "7) K-Means\n",
    "8) Random Forest\n",
    "9) Dimensionality Reduction Algorithms\n",
    "10) Gradient Boosting algorithms:\n",
    "                                   a) GBM\n",
    "                                   b) XGBoost\n",
    "                                   c) LightGBM\n",
    "                                   d) CatBoost\n",
    " "
   ]
  },
  {
   "cell_type": "markdown",
   "id": "5325e8d9",
   "metadata": {},
   "source": [
    "# 1) Linear Regression\n",
    "To understand the working functionality of this ml algorithm, imagine how you would arrange random logs of wood in increasing order of their weight. There is a catch; however – you cannot weigh each log. You have to guess its weight just by looking at the height and girth of the log (visual analysis) and arranging them using a combination of these visible parameters. This is what linear regression in machine learning is like.\n",
    "\n",
    "In this process, a relationship is established between independent and dependent variables by fitting them to a line. This line is known as the regression line and is represented by a linear equation \n",
    "Y= a *X + b.\n",
    "\n",
    "In this equation:\n",
    "\n",
    "Y – Dependent Variable\n",
    "a – Slope\n",
    "X – Independent variable\n",
    "b – Intercept\n",
    "The coefficients a & b are derived by minimizing the sum of the squared difference of distance between data points and the regression line\n",
    "\n",
    "Linear Regression is mainly of two types: Simple Linear Regression and Multiple Linear Regression. Simple Linear Regression is characterized by one independent variable. And, Multiple Linear Regression(as the name suggests) is characterized by multiple (more than 1) independent variables. While finding the best fit line, you can fit a polynomial or curvilinear regression. And these are known as polynomial or curvilinear regression.\n"
   ]
  },
  {
   "cell_type": "markdown",
   "id": "66c03385",
   "metadata": {},
   "source": [
    "# LOGISTIC REGRESSION\n",
    "Logistic Regression is used to estimate discrete values (usually binary values like 0/1) from a set of independent variables. It helps predict the probability of an event by fitting data to a logit function. It is also called logit regression.\n",
    "\n",
    "# These methods listed below are often used to help improve logistic regression models:\n",
    "\n",
    "include interaction terms\n",
    "eliminate features\n",
    "regularize techniques\n",
    "use a non-linear model"
   ]
  },
  {
   "cell_type": "markdown",
   "id": "6e448456",
   "metadata": {},
   "source": [
    "# Decision Tree\n",
    "Decision Tree algorithm in machine learning is one of the most popular algorithm in use today; this is a supervised learning algorithm that is used for classifying problems and regression also. It works well in classifying both categorical and continuous dependent variables. This algorithm divides the population into two or more homogeneous sets based on the most significant attributes/ independent variables to make as distinct groups as possible.\n",
    "\n",
    "The problem is solved using a decision tree, where each leaf node corresponds to a class label and the inside nodes of the tree represent the qualities."
   ]
  },
  {
   "cell_type": "code",
   "execution_count": null,
   "id": "9afef34c",
   "metadata": {},
   "outputs": [],
   "source": []
  },
  {
   "cell_type": "code",
   "execution_count": null,
   "id": "aa20a1dd",
   "metadata": {},
   "outputs": [],
   "source": []
  },
  {
   "cell_type": "code",
   "execution_count": null,
   "id": "6f9d20c4",
   "metadata": {},
   "outputs": [],
   "source": []
  },
  {
   "cell_type": "code",
   "execution_count": null,
   "id": "1fac5f99",
   "metadata": {},
   "outputs": [],
   "source": []
  },
  {
   "cell_type": "code",
   "execution_count": null,
   "id": "7987a62d",
   "metadata": {},
   "outputs": [],
   "source": []
  }
 ],
 "metadata": {
  "kernelspec": {
   "display_name": "Python 3 (ipykernel)",
   "language": "python",
   "name": "python3"
  },
  "language_info": {
   "codemirror_mode": {
    "name": "ipython",
    "version": 3
   },
   "file_extension": ".py",
   "mimetype": "text/x-python",
   "name": "python",
   "nbconvert_exporter": "python",
   "pygments_lexer": "ipython3",
   "version": "3.9.12"
  }
 },
 "nbformat": 4,
 "nbformat_minor": 5
}
