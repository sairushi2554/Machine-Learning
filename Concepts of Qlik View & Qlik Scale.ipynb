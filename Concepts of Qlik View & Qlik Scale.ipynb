{
 "cells": [
  {
   "cell_type": "markdown",
   "id": "613133ee",
   "metadata": {},
   "source": [
    "## Qlik View\n",
    "1) A leading Business Discovery Platform.\n",
    "\n",
    "2) It is very powerful in visually analyzing the relationships between data.\n",
    "\n",
    "3) It does in-memory data processing and stores the data in the report itself that it creates.\n",
    "\n",
    "4) It can read data from numerous sources including files and relational databases.\n",
    "\n",
    "5) It is used by business to get deeper insight by doing advanced analytics on the data they have.\n",
    "\n",
    "6) It even does data integration by combining data from various sources into one QlikView analysis document."
   ]
  },
  {
   "cell_type": "markdown",
   "id": "f7b61afd",
   "metadata": {},
   "source": [
    "### PRE-REQUISITES\n",
    "A basic understanding of any of the programming languages will help you in inderstanding the QlikView programming concepts.\n",
    "\n",
    "Familiarity with SQL will help you learn it very fast."
   ]
  },
  {
   "cell_type": "markdown",
   "id": "1866ce04",
   "metadata": {},
   "source": [
    "## FEATURES OF QLIKVIEW\n",
    "1) In-memory Technology\n",
    "\n",
    "2) Associative Model\n",
    "\n",
    "3) Comparative Analysis\n",
    "\n",
    "4) Social Data Discovery\n",
    "\n",
    "5) Mobile Data Discovery\n",
    "\n",
    "6) Agile Application Development\n",
    "\n",
    "7) Enterprise Capabilities\n",
    "\n",
    "8) Powerful & Global Data Discovery\n",
    "\n",
    "9) Interactive Guided Analysis"
   ]
  },
  {
   "cell_type": "code",
   "execution_count": null,
   "id": "c8ce9634",
   "metadata": {},
   "outputs": [],
   "source": []
  },
  {
   "cell_type": "code",
   "execution_count": null,
   "id": "27c439ef",
   "metadata": {},
   "outputs": [],
   "source": []
  },
  {
   "cell_type": "code",
   "execution_count": null,
   "id": "87d69c77",
   "metadata": {},
   "outputs": [],
   "source": []
  },
  {
   "cell_type": "code",
   "execution_count": null,
   "id": "bc95f4b5",
   "metadata": {},
   "outputs": [],
   "source": []
  },
  {
   "cell_type": "code",
   "execution_count": null,
   "id": "8c9640c3",
   "metadata": {},
   "outputs": [],
   "source": []
  },
  {
   "cell_type": "code",
   "execution_count": null,
   "id": "535479b1",
   "metadata": {},
   "outputs": [],
   "source": []
  },
  {
   "cell_type": "code",
   "execution_count": null,
   "id": "c364c78c",
   "metadata": {},
   "outputs": [],
   "source": []
  },
  {
   "cell_type": "code",
   "execution_count": null,
   "id": "67d46f8f",
   "metadata": {},
   "outputs": [],
   "source": []
  },
  {
   "cell_type": "code",
   "execution_count": null,
   "id": "1c31fe15",
   "metadata": {},
   "outputs": [],
   "source": []
  }
 ],
 "metadata": {
  "kernelspec": {
   "display_name": "Python 3 (ipykernel)",
   "language": "python",
   "name": "python3"
  },
  "language_info": {
   "codemirror_mode": {
    "name": "ipython",
    "version": 3
   },
   "file_extension": ".py",
   "mimetype": "text/x-python",
   "name": "python",
   "nbconvert_exporter": "python",
   "pygments_lexer": "ipython3",
   "version": "3.9.12"
  }
 },
 "nbformat": 4,
 "nbformat_minor": 5
}
